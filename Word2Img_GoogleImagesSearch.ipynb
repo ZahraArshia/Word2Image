{
  "nbformat": 4,
  "nbformat_minor": 0,
  "metadata": {
    "colab": {
      "provenance": [],
      "include_colab_link": true
    },
    "kernelspec": {
      "name": "python3",
      "display_name": "Python 3"
    },
    "language_info": {
      "name": "python"
    }
  },
  "cells": [
    {
      "cell_type": "markdown",
      "metadata": {
        "id": "view-in-github",
        "colab_type": "text"
      },
      "source": [
        "<a href=\"https://colab.research.google.com/github/ZahraArshia/Word2Image/blob/main/Word2Img_GoogleImagesSearch.ipynb\" target=\"_parent\"><img src=\"https://colab.research.google.com/assets/colab-badge.svg\" alt=\"Open In Colab\"/></a>"
      ]
    },
    {
      "cell_type": "code",
      "execution_count": null,
      "metadata": {
        "id": "BVtc3QNxsgYU"
      },
      "outputs": [],
      "source": [
        "!pip install google_images_search"
      ]
    },
    {
      "cell_type": "code",
      "source": [
        "from google_images_search import GoogleImagesSearch\n",
        "import pandas as pd\n",
        "import requests\n",
        "import json\n",
        "\n",
        "def get_image_url(search_query, index=0):\n",
        "    # Setting up Google Images Search API credentials\n",
        "    gis = GoogleImagesSearch('API Key', 'Project ID')\n",
        "    # Configure the search query\n",
        "    search_params = {\n",
        "        'q': search_query,\n",
        "        'num': 1,  # Number of images to retrieve (change as needed)\n",
        "        'safe': 'high',  # Filter explicit content: high, medium, off\n",
        "    }\n",
        "\n",
        "    try:\n",
        "        # Perform the search\n",
        "        gis.search(search_params)\n",
        "\n",
        "        # Retrieve the first image URL from the search results\n",
        "        if gis.results():\n",
        "            return gis.results()[0].url\n",
        "    except:\n",
        "\n",
        "        url = \"https://google.serper.dev/images\"\n",
        "\n",
        "        payload = json.dumps({\n",
        "            \"q\": search_query,\n",
        "            \"num\": 1,\n",
        "            \"gl\": \"iq\",\n",
        "            \"hl\": \"ar\" # setting language\n",
        "            })\n",
        "\n",
        "        api_keys = [\n",
        "            # several API keys to support all dataset records by free plan\n",
        "        ]\n",
        "\n",
        "        headers = {\n",
        "            'X-API-KEY': api_keys[index],\n",
        "            'Content-Type': 'application/json'\n",
        "        }\n",
        "\n",
        "        response = requests.request(\"POST\", url, headers=headers, data=payload)\n",
        "        try:\n",
        "            image_url = response.json()['images'][0]['imageUrl']\n",
        "            return image_url\n",
        "        except:\n",
        "            return None\n",
        "\n",
        "    return None\n",
        "\n"
      ],
      "metadata": {
        "id": "At4bRRy1sorE"
      },
      "execution_count": null,
      "outputs": []
    },
    {
      "cell_type": "code",
      "source": [
        "# initial var\n",
        "image_url_list = []\n",
        "start_index = 0\n",
        "api_key_index = 0\n",
        "max_api_index = 7\n",
        "api_limit = 2500"
      ],
      "metadata": {
        "id": "yIIWV7ZdU8rl"
      },
      "execution_count": null,
      "outputs": []
    },
    {
      "cell_type": "code",
      "source": [
        "# for continue from last word find image url read from excel\n",
        "data_path = '/Arabic_words_output1.xlsx'\n",
        "df = pd.read_excel(data_path)\n",
        "image_url_list = list(df[\"Column7\"])\n",
        "for value in image_url_list:\n",
        "  if pd.isna(value):\n",
        "    start_index = image_url_list.index(value)\n",
        "    print(\"first index is Nan item: \", start_index)\n",
        "    break"
      ],
      "metadata": {
        "id": "rDK4LZmnRuyt"
      },
      "execution_count": null,
      "outputs": []
    },
    {
      "cell_type": "code",
      "source": [
        "# usage\n",
        "data_path = '/Arabic_Words_Uniqe.xlsx'\n",
        "df = pd.read_excel(data_path)\n",
        "counter = 0\n",
        "\n",
        "# find index of api key must send request\n",
        "for i in range(max_api_index):\n",
        "  if start_index < ((i+1) * api_limit):\n",
        "    api_key_index = i\n",
        "\n",
        "# if image_url_empty make it with None value and quantity = length of words\n",
        "if len(image_url_list) == 0:\n",
        "  image_url_list = [None] * len(df[\"Column4\"])\n",
        "\n",
        "print(\"start index:\", start_index)\n",
        "print(\"api key index:\", api_key_index)\n",
        "\n",
        "for word in df[\"Column4\"]:\n",
        "    print(counter, end=\"-\")\n",
        "    counter += 1\n",
        "    if counter < start_index:\n",
        "      continue\n",
        "    search_word = word\n",
        "    image_url = get_image_url(search_word, api_key_index)\n",
        "    if image_url:\n",
        "        image_url_list[counter]=image_url\n",
        "        print(f\"Image URL for '{search_word}': {image_url}\")\n",
        "    else:\n",
        "      image_url_list[counter]=\"\"\n",
        "      if api_key_index < max_api_index - 1:\n",
        "        api_key_index += 1\n",
        "        counter -= 1\n",
        "      print(f\"No image found for '{search_word}'\")"
      ],
      "metadata": {
        "id": "YhwN74yYRlUV"
      },
      "execution_count": null,
      "outputs": []
    },
    {
      "cell_type": "code",
      "source": [
        "image_url_list[-1]"
      ],
      "metadata": {
        "id": "bPb-by2_ichX"
      },
      "execution_count": null,
      "outputs": []
    },
    {
      "cell_type": "code",
      "source": [
        "df[\"Column7\"] = image_url_list\n",
        "df.to_excel('output.xlsx', index=False)"
      ],
      "metadata": {
        "id": "z0Nr1NTdfKpt"
      },
      "execution_count": null,
      "outputs": []
    }
  ]
}